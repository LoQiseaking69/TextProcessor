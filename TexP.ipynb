{
  "cells": [
    {
      "cell_type": "markdown",
      "metadata": {
        "id": "ytPz01yeXFfz"
      },
      "source": [
        "# Text Processing and Analysis in Jupyter\n",
        "\n",
        "This notebook contains a script designed to take a body of text entered by the user and perform several natural language processing tasks. The interactive interface allows for easy input and clear display of processed data.\n",
        "\n",
        "## Features:\n",
        "- **Sentence Segmentation:** The input text is split into individual sentences.\n",
        "- **Word Tokenization:** Each sentence is then tokenized into words, excluding punctuation.\n",
        "- **Word Frequency Count:** A count of each word's occurrence within each sentence is computed.\n",
        "- **Timestamping:** Each input is timestamped to record the exact time of processing.\n",
        "- **Interactive UI:** A text area for input and a button to trigger processing are provided, with the output displayed below.\n",
        "\n",
        "Simply enter your text into the textarea and click \"Process Text\" to see the script in action. The results will include the separated sentences, their word counts excluding punctuation, and the timestamps of processing."
      ]
    },
    {
      "cell_type": "markdown",
      "metadata": {
        "id": "P1ak1g93XFf6"
      },
      "source": [
        "# Imports\n",
        "This notebook utilizes the following Python libraries:\n",
        "\n",
        "- `nltk`: The Natural Language Toolkit is used for text processing tasks such as sentence tokenization and word tokenization.\n",
        "- `datetime`: A standard library for handling date and time operations, providing timestamp functionality.\n",
        "- `ipywidgets`: Provides interactive HTML widgets for Jupyter notebooks, enabling the creation of the user interface elements such as text boxes and buttons.\n",
        "- `IPython.display`: Offers utilities for displaying rich media in Jupyter notebooks, used here to manage the output area.\n",
        "- `logging`: Used for logging events and messages, particularly useful for suppressing informational messages from libraries.\n",
        "- `os`: Provides a way of using operating system dependent functionality like creating folders.\n",
        "- `json`: Used to encode and decode data in the popular JSON format for file storage.\n",
        "\n",
        "These libraries work together to create an interactive text processing application within the Jupyter notebook environment.\n"
      ]
    },
    {
      "cell_type": "code",
      "execution_count": 5,
      "metadata": {
        "id": "wc3Cee7oXFf7"
      },
      "outputs": [],
      "source": [
        "import os\n",
        "import json\n",
        "from collections import Counter\n",
        "from datetime import datetime\n",
        "import nltk\n",
        "from nltk.tokenize import word_tokenize\n",
        "import ipywidgets as widgets\n",
        "from IPython.display import display, clear_output\n",
        "import logging"
      ]
    },
    {
      "cell_type": "markdown",
      "metadata": {
        "id": "Se-qdrecXFf9"
      },
      "source": [
        "# Core Functionality\n",
        "\n",
        "This script provides a user interface for entering and processing text to extract sentences and generate word frequency data.\n",
        "\n",
        "Functionality includes:\n",
        "- **Sentence Tokenization**: Splitting entered text into individual sentences.\n",
        "- **Word Tokenization**: Breaking down sentences into words, excluding punctuation.\n",
        "- **Word Count**: Generating a frequency count of words in each sentence.\n",
        "- **Timestamping**: Marking each processed sentence with the current date and time.\n",
        "- **Data Display**: Presenting the processed data neatly within the notebook.\n",
        "\n",
        "To use the script, enter the text into the provided text area and click \"Process Text\".\n",
        "The output will display below the button, showing the sentences, word counts, and timestamps."
      ]
    },
    {
      "cell_type": "code",
      "execution_count": 6,
      "metadata": {
        "colab": {
          "base_uri": "https://localhost:8080/",
          "height": 377,
          "referenced_widgets": [
            "146db5cf9e874b20ba395f98b5f0c214",
            "b947cafcad0c4f2abeaca916ee68dc7b",
            "eddaaea4a83b4ea99d931a2b04c4112b",
            "b30fad53c0684bd0aa949ba255cb1619",
            "dd528542dbdd45bab4957dc173937889",
            "e4b1ab49f7924936bd5cc4ec52d30c1a",
            "43d6c620ac044e63aa165882793a8d28",
            "085b170980b5476a880417b0bd5210d0"
          ]
        },
        "id": "zGevsYsMXFf-",
        "outputId": "5b80243e-69fc-4083-a4bc-ccc476c4babb"
      },
      "outputs": [
        {
          "output_type": "display_data",
          "data": {
            "text/plain": [
              "Textarea(value='', description='Text:', layout=Layout(height='200px', width='100%'), placeholder='Type or past…"
            ],
            "application/vnd.jupyter.widget-view+json": {
              "version_major": 2,
              "version_minor": 0,
              "model_id": "146db5cf9e874b20ba395f98b5f0c214"
            }
          },
          "metadata": {}
        },
        {
          "output_type": "display_data",
          "data": {
            "text/plain": [
              "Button(description='Process Text', style=ButtonStyle())"
            ],
            "application/vnd.jupyter.widget-view+json": {
              "version_major": 2,
              "version_minor": 0,
              "model_id": "b30fad53c0684bd0aa949ba255cb1619"
            }
          },
          "metadata": {}
        },
        {
          "output_type": "display_data",
          "data": {
            "text/plain": [
              "Output()"
            ],
            "application/vnd.jupyter.widget-view+json": {
              "version_major": 2,
              "version_minor": 0,
              "model_id": "43d6c620ac044e63aa165882793a8d28"
            }
          },
          "metadata": {}
        }
      ],
      "source": [
        "# Set the level to ERROR to display only errors, not info messages\n",
        "logging.getLogger('nltk').setLevel(logging.ERROR)\n",
        "\n",
        "# Ensure the Punkt tokenizer models are available\n",
        "try:\n",
        "    nltk.data.find('tokenizers/punkt')\n",
        "except LookupError:\n",
        "    nltk.download('punkt', quiet=True)\n",
        "\n",
        "def split_into_sentences(text):\n",
        "    tokenizer = nltk.data.load('tokenizers/punkt/english.pickle')\n",
        "    return tokenizer.tokenize(text)\n",
        "\n",
        "def process_sentence(sentence):\n",
        "    words = word_tokenize(sentence.lower())\n",
        "    words = [word for word in words if word.isalpha()]\n",
        "    return Counter(words)\n",
        "\n",
        "def add_to_list(sentences, sentence):\n",
        "    if sentence and not any(s['sentence'] == sentence for s in sentences):\n",
        "        word_dict = process_sentence(sentence)\n",
        "        timestamp = datetime.now().isoformat()\n",
        "        sentences.append({'sentence': sentence, 'word_dict': word_dict, 'timestamp': timestamp})\n",
        "        return True\n",
        "    else:\n",
        "        return False\n",
        "\n",
        "# Create a folder to save the data\n",
        "folder_name = 'Processed_Data'\n",
        "os.makedirs(folder_name, exist_ok=True)  # This will create the folder if it doesn't exist\n",
        "\n",
        "# Function to save data to a JSON file\n",
        "def save_data(data):\n",
        "    file_name = os.path.join(folder_name, 'processed_data.json')\n",
        "    with open(file_name, 'w') as f:\n",
        "        json.dump(data, f, indent=4)\n",
        "    print(f\"Data saved to {file_name}\")\n",
        "\n",
        "# UI Components\n",
        "text_area = widgets.Textarea(\n",
        "    placeholder='Type or paste your transcribed text here',\n",
        "    description='Text:',\n",
        "    disabled=False,\n",
        "    layout=widgets.Layout(width='100%', height='200px')\n",
        ")\n",
        "\n",
        "output_area = widgets.Output()\n",
        "button = widgets.Button(description=\"Process Text\")\n",
        "\n",
        "# Event Handlers\n",
        "def on_button_clicked(b):\n",
        "    with output_area:\n",
        "        clear_output()\n",
        "        if text_area.value.strip():\n",
        "            sentences = []\n",
        "            data_updated = False\n",
        "            for sentence in split_into_sentences(text_area.value):\n",
        "                if add_to_list(sentences, sentence):\n",
        "                    data_updated = True\n",
        "            if data_updated:\n",
        "                print(\"Data processed successfully.\")\n",
        "                # Displaying the sentences in a formatted way\n",
        "                for item in sentences:\n",
        "                    print(f\"Sentence: {item['sentence']}\")\n",
        "                    print(f\"Word Count: {dict(item['word_dict'])}\")\n",
        "                    print(f\"Timestamp: {item['timestamp']}\\n\")\n",
        "                # Save the data to a JSON file\n",
        "                save_data(sentences)\n",
        "        else:\n",
        "            print(\"Please enter some text to process.\")\n",
        "\n",
        "button.on_click(on_button_clicked)\n",
        "\n",
        "# Display UI\n",
        "display(text_area, button, output_area)"
      ]
    }
  ],
  "metadata": {
    "kernelspec": {
      "display_name": "Python 3 (ipykernel)",
      "language": "python",
      "name": "python3"
    },
    "language_info": {
      "codemirror_mode": {
        "name": "ipython",
        "version": 3
      },
      "file_extension": ".py",
      "mimetype": "text/x-python",
      "name": "python",
      "nbconvert_exporter": "python",
      "pygments_lexer": "ipython3",
      "version": "3.11.0"
    },
    "colab": {
      "provenance": []
    },
    "widgets": {
      "application/vnd.jupyter.widget-state+json": {
        "146db5cf9e874b20ba395f98b5f0c214": {
          "model_module": "@jupyter-widgets/controls",
          "model_name": "TextareaModel",
          "model_module_version": "1.5.0",
          "state": {
            "_dom_classes": [],
            "_model_module": "@jupyter-widgets/controls",
            "_model_module_version": "1.5.0",
            "_model_name": "TextareaModel",
            "_view_count": null,
            "_view_module": "@jupyter-widgets/controls",
            "_view_module_version": "1.5.0",
            "_view_name": "TextareaView",
            "continuous_update": true,
            "description": "Text:",
            "description_tooltip": null,
            "disabled": false,
            "layout": "IPY_MODEL_b947cafcad0c4f2abeaca916ee68dc7b",
            "placeholder": "Type or paste your transcribed text here",
            "rows": null,
            "style": "IPY_MODEL_eddaaea4a83b4ea99d931a2b04c4112b",
            "value": "hello can you hear me?"
          }
        },
        "b947cafcad0c4f2abeaca916ee68dc7b": {
          "model_module": "@jupyter-widgets/base",
          "model_name": "LayoutModel",
          "model_module_version": "1.2.0",
          "state": {
            "_model_module": "@jupyter-widgets/base",
            "_model_module_version": "1.2.0",
            "_model_name": "LayoutModel",
            "_view_count": null,
            "_view_module": "@jupyter-widgets/base",
            "_view_module_version": "1.2.0",
            "_view_name": "LayoutView",
            "align_content": null,
            "align_items": null,
            "align_self": null,
            "border": null,
            "bottom": null,
            "display": null,
            "flex": null,
            "flex_flow": null,
            "grid_area": null,
            "grid_auto_columns": null,
            "grid_auto_flow": null,
            "grid_auto_rows": null,
            "grid_column": null,
            "grid_gap": null,
            "grid_row": null,
            "grid_template_areas": null,
            "grid_template_columns": null,
            "grid_template_rows": null,
            "height": "200px",
            "justify_content": null,
            "justify_items": null,
            "left": null,
            "margin": null,
            "max_height": null,
            "max_width": null,
            "min_height": null,
            "min_width": null,
            "object_fit": null,
            "object_position": null,
            "order": null,
            "overflow": null,
            "overflow_x": null,
            "overflow_y": null,
            "padding": null,
            "right": null,
            "top": null,
            "visibility": null,
            "width": "100%"
          }
        },
        "eddaaea4a83b4ea99d931a2b04c4112b": {
          "model_module": "@jupyter-widgets/controls",
          "model_name": "DescriptionStyleModel",
          "model_module_version": "1.5.0",
          "state": {
            "_model_module": "@jupyter-widgets/controls",
            "_model_module_version": "1.5.0",
            "_model_name": "DescriptionStyleModel",
            "_view_count": null,
            "_view_module": "@jupyter-widgets/base",
            "_view_module_version": "1.2.0",
            "_view_name": "StyleView",
            "description_width": ""
          }
        },
        "b30fad53c0684bd0aa949ba255cb1619": {
          "model_module": "@jupyter-widgets/controls",
          "model_name": "ButtonModel",
          "model_module_version": "1.5.0",
          "state": {
            "_dom_classes": [],
            "_model_module": "@jupyter-widgets/controls",
            "_model_module_version": "1.5.0",
            "_model_name": "ButtonModel",
            "_view_count": null,
            "_view_module": "@jupyter-widgets/controls",
            "_view_module_version": "1.5.0",
            "_view_name": "ButtonView",
            "button_style": "",
            "description": "Process Text",
            "disabled": false,
            "icon": "",
            "layout": "IPY_MODEL_dd528542dbdd45bab4957dc173937889",
            "style": "IPY_MODEL_e4b1ab49f7924936bd5cc4ec52d30c1a",
            "tooltip": ""
          }
        },
        "dd528542dbdd45bab4957dc173937889": {
          "model_module": "@jupyter-widgets/base",
          "model_name": "LayoutModel",
          "model_module_version": "1.2.0",
          "state": {
            "_model_module": "@jupyter-widgets/base",
            "_model_module_version": "1.2.0",
            "_model_name": "LayoutModel",
            "_view_count": null,
            "_view_module": "@jupyter-widgets/base",
            "_view_module_version": "1.2.0",
            "_view_name": "LayoutView",
            "align_content": null,
            "align_items": null,
            "align_self": null,
            "border": null,
            "bottom": null,
            "display": null,
            "flex": null,
            "flex_flow": null,
            "grid_area": null,
            "grid_auto_columns": null,
            "grid_auto_flow": null,
            "grid_auto_rows": null,
            "grid_column": null,
            "grid_gap": null,
            "grid_row": null,
            "grid_template_areas": null,
            "grid_template_columns": null,
            "grid_template_rows": null,
            "height": null,
            "justify_content": null,
            "justify_items": null,
            "left": null,
            "margin": null,
            "max_height": null,
            "max_width": null,
            "min_height": null,
            "min_width": null,
            "object_fit": null,
            "object_position": null,
            "order": null,
            "overflow": null,
            "overflow_x": null,
            "overflow_y": null,
            "padding": null,
            "right": null,
            "top": null,
            "visibility": null,
            "width": null
          }
        },
        "e4b1ab49f7924936bd5cc4ec52d30c1a": {
          "model_module": "@jupyter-widgets/controls",
          "model_name": "ButtonStyleModel",
          "model_module_version": "1.5.0",
          "state": {
            "_model_module": "@jupyter-widgets/controls",
            "_model_module_version": "1.5.0",
            "_model_name": "ButtonStyleModel",
            "_view_count": null,
            "_view_module": "@jupyter-widgets/base",
            "_view_module_version": "1.2.0",
            "_view_name": "StyleView",
            "button_color": null,
            "font_weight": ""
          }
        },
        "43d6c620ac044e63aa165882793a8d28": {
          "model_module": "@jupyter-widgets/output",
          "model_name": "OutputModel",
          "model_module_version": "1.0.0",
          "state": {
            "_dom_classes": [],
            "_model_module": "@jupyter-widgets/output",
            "_model_module_version": "1.0.0",
            "_model_name": "OutputModel",
            "_view_count": null,
            "_view_module": "@jupyter-widgets/output",
            "_view_module_version": "1.0.0",
            "_view_name": "OutputView",
            "layout": "IPY_MODEL_085b170980b5476a880417b0bd5210d0",
            "msg_id": "",
            "outputs": [
              {
                "output_type": "stream",
                "name": "stdout",
                "text": [
                  "Data processed successfully.\n",
                  "Sentence: hello can you hear me?\n",
                  "Word Count: {'hello': 1, 'can': 1, 'you': 1, 'hear': 1, 'me': 1}\n",
                  "Timestamp: 2024-02-11T22:57:41.800397\n",
                  "\n",
                  "Data saved to Processed_Data/processed_data.json\n"
                ]
              }
            ]
          }
        },
        "085b170980b5476a880417b0bd5210d0": {
          "model_module": "@jupyter-widgets/base",
          "model_name": "LayoutModel",
          "model_module_version": "1.2.0",
          "state": {
            "_model_module": "@jupyter-widgets/base",
            "_model_module_version": "1.2.0",
            "_model_name": "LayoutModel",
            "_view_count": null,
            "_view_module": "@jupyter-widgets/base",
            "_view_module_version": "1.2.0",
            "_view_name": "LayoutView",
            "align_content": null,
            "align_items": null,
            "align_self": null,
            "border": null,
            "bottom": null,
            "display": null,
            "flex": null,
            "flex_flow": null,
            "grid_area": null,
            "grid_auto_columns": null,
            "grid_auto_flow": null,
            "grid_auto_rows": null,
            "grid_column": null,
            "grid_gap": null,
            "grid_row": null,
            "grid_template_areas": null,
            "grid_template_columns": null,
            "grid_template_rows": null,
            "height": null,
            "justify_content": null,
            "justify_items": null,
            "left": null,
            "margin": null,
            "max_height": null,
            "max_width": null,
            "min_height": null,
            "min_width": null,
            "object_fit": null,
            "object_position": null,
            "order": null,
            "overflow": null,
            "overflow_x": null,
            "overflow_y": null,
            "padding": null,
            "right": null,
            "top": null,
            "visibility": null,
            "width": null
          }
        }
      }
    }
  },
  "nbformat": 4,
  "nbformat_minor": 0
}
